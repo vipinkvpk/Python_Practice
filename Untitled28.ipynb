{
  "nbformat": 4,
  "nbformat_minor": 0,
  "metadata": {
    "colab": {
      "provenance": [],
      "authorship_tag": "ABX9TyNtE5omTRjrBJr65IGRmTnc",
      "include_colab_link": true
    },
    "kernelspec": {
      "name": "python3",
      "display_name": "Python 3"
    },
    "language_info": {
      "name": "python"
    }
  },
  "cells": [
    {
      "cell_type": "markdown",
      "metadata": {
        "id": "view-in-github",
        "colab_type": "text"
      },
      "source": [
        "<a href=\"https://colab.research.google.com/github/vipinkvpk/python_practice/blob/main/Untitled28.ipynb\" target=\"_parent\"><img src=\"https://colab.research.google.com/assets/colab-badge.svg\" alt=\"Open In Colab\"/></a>"
      ]
    },
    {
      "cell_type": "code",
      "execution_count": 1,
      "metadata": {
        "colab": {
          "base_uri": "https://localhost:8080/"
        },
        "id": "4vGyvw4rcCaD",
        "outputId": "5eda10a2-fcc9-44ee-8594-02e8885653b6"
      },
      "outputs": [
        {
          "output_type": "stream",
          "name": "stdout",
          "text": [
            "Enter the base number2\n",
            "Enter the exponent8\n",
            "Power is = 256.0\n"
          ]
        }
      ],
      "source": [
        "\n",
        "##python program that give exponential of any number\n",
        "\n",
        "import math\n",
        "\n",
        "base_number = float(input(\"Enter the base number\"))\n",
        "exponent = float(input(\"Enter the exponent\"))\n",
        "\n",
        "power = math.pow(base_number,exponent)\n",
        "print(\"Power is =\",power)\n",
        "\n",
        "\n"
      ]
    },
    {
      "cell_type": "code",
      "source": [],
      "metadata": {
        "id": "kUrEVvXocOrC"
      },
      "execution_count": null,
      "outputs": []
    }
  ]
}